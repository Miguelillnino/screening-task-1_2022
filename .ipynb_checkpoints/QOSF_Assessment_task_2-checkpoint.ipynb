{
 "cells": [
  {
   "cell_type": "code",
   "execution_count": 10,
   "metadata": {},
   "outputs": [],
   "source": [
    "#Notebook written by Miguel de Jesús Martínez Felipe\n",
    "#For Quantum Computing Mentorship Program (QOSF)\n",
    "#Assessment task 2\n",
    "\n",
    "import logging\n",
    "import math\n",
    "from qiskit import *\n",
    "from qiskit.visualization import plot_histogram, plot_bloch_multivector\n",
    "from numpy import pi\n",
    "\n",
    "#from qiskit.circuit.library import QFT"
   ]
  },
  {
   "cell_type": "markdown",
   "metadata": {},
   "source": [
    "# Quantum Fourier Transform"
   ]
  },
  {
   "cell_type": "code",
   "execution_count": 38,
   "metadata": {},
   "outputs": [],
   "source": [
    "def qft_rotations(circuit, n):\n",
    "    \"\"\"Performs qft on the first n qubits in circuit (without swaps)\"\"\"\n",
    "    if n == 0:\n",
    "        return circuit\n",
    "    n -= 1\n",
    "    circuit.h(n)\n",
    "    circuit.barrier()\n",
    "    for qubit in range(n):\n",
    "        circuit.cp(pi/2**(n-qubit), qubit, n)\n",
    "    qft_rotations(circuit, n)\n",
    "\n",
    "def swap_registers(circuit, n):\n",
    "    for qubit in range(n//2):\n",
    "        circuit.swap(qubit, n-qubit-1)\n",
    "    return circuit\n",
    "\n",
    "def qft(circuit, n):\n",
    "    \"\"\"QFT on the first n qubits in circuit\"\"\"\n",
    "    qft_rotations(circuit, n)\n",
    "    swap_registers(circuit, n)\n",
    "    return circuit.decompose()\n",
    "\n",
    "def qft_inser(circuit,n):\n",
    "    lenghtCircuit = len(circuit.qubits)\n",
    "    qft_circ = qft(QuantumCircuit(n,name='QFT'), n)\n",
    "    circuit.append(qft_circ, circuit.qubits[lenghtCircuit-n:lenghtCircuit])\n",
    "    return circuit.decompose()\n",
    "\n",
    "def inverse_qft(circuit, n):\n",
    "    lenghtCircuit = len(circuit.qubits)\n",
    "    \"\"\"Does the inverse QFT on the first n qubits in circuit\"\"\"\n",
    "    qft_circ = qft(QuantumCircuit(n,name='inv_QFT'), n)\n",
    "    invqft_circ = qft_circ.inverse()\n",
    "    circuit.append(invqft_circ, circuit.qubits[lenghtCircuit-n:lenghtCircuit])\n",
    "    return circuit.decompose()"
   ]
  },
  {
   "cell_type": "markdown",
   "metadata": {},
   "source": [
    "# Draper Adder"
   ]
  },
  {
   "cell_type": "code",
   "execution_count": 71,
   "metadata": {},
   "outputs": [],
   "source": [
    "def add_qubit(qc, q, qubits_Fourier):\n",
    "    lenghtCircuit = len(qc.qubits)\n",
    "    differenceQubits = lenghtCircuit-qubits_Fourier\n",
    "    for indx, qb in enumerate(range(differenceQubits,lenghtCircuit)): # Aqui se varía el dependiendo el rango\n",
    "        qc.cp(pi / (2**((differenceQubits-1) - indx)), q, qb) # Aqui se varía el número elevado dependiendo el resultado\n",
    "    return qc\n",
    "\n",
    "def rotationsFourier(qc,qubits_number_A,qubits_Fourier):\n",
    "    for q in range(0,qubits_number_A):\n",
    "        power_of_two = 2**q\n",
    "        for index in range(0,power_of_two):\n",
    "            a_rotations = add_qubit(QuantumCircuit(len(qc.qubits),name='A'), q,qubits_Fourier)\n",
    "            qc.append(a_rotations, qc.qubits[0:len(qc.qubits)]) \n",
    "            qc.barrier()\n",
    "        \n",
    "\n"
   ]
  },
  {
   "cell_type": "code",
   "execution_count": 72,
   "metadata": {},
   "outputs": [],
   "source": [
    "def integerToBinary(number):\n",
    "    binary = bin(number)\n",
    "    bin_string = str(binary)\n",
    "    clean_binary = bin_string[2:len(bin_string)]\n",
    "    return clean_binary\n",
    "\n",
    "def multiplierQuantumCiruit(number_1,number_2):\n",
    "    print('Entró a multiplierQuantumCiruit')\n",
    "    qubits_A = math.ceil(math.log(number_1,2))\n",
    "    qubits_B = math.ceil(math.log(number_2,2))\n",
    "    qubits_Fourier = qubits_A + qubits_B\n",
    "    total_qubits = qubits_A + qubits_B + qubits_Fourier\n",
    "    print(qubits_A)\n",
    "    print(qubits_B)\n",
    "    print(qubits_Fourier)\n",
    "    qc = QuantumCircuit(total_qubits,qubits_Fourier)\n",
    "#     qc = QuantumCircuit(total_qubits,qubits_Fourier)\n",
    "\n",
    "    qft_inser(qc,qubits_Fourier)\n",
    "    for ida, a_value in enumerate(integerToBinary(number_1)[::-1]): # Cambiar el binario del número uno\n",
    "        if(a_value=='1'):\n",
    "            qc.x(ida)\n",
    "                \n",
    "    for idb, b_value in enumerate(integerToBinary(number_2)[::-1]): # Cambiar el binario del número dos\n",
    "        if(b_value=='1'):\n",
    "            qc.x(idb+qubits_A)\n",
    "    # Rotations with the number_1 \n",
    "    rotationsFourier(qc,qubits_A,qubits_Fourier)\n",
    "    \n",
    "#     for multiply in range(qubits_A,qubits_A+qubits_B):\n",
    "    for idb, b_value in enumerate(integerToBinary(number_2)[::-1]):\n",
    "        if b_value=='1':\n",
    "            rotations_b = 2**idb\n",
    "            for index in range(0,rotations_b):\n",
    "                rotationsFourier(qc,qubits_A,qubits_Fourier)\n",
    "#                 b_rotations = add_qubit(QuantumCircuit(10,name='B'), q)\n",
    "#                 qc.append(b_rotations, qc.qubits[0:10]) # Aqui se varía el dependiendo el rango\n",
    "#                 qc.barrier()\n",
    "    inverse_qft(qc,qubits_Fourier)\n",
    "    \n",
    "    qc.measure(range(total_qubits-qubits_Fourier,total_qubits),range(0,qubits_Fourier))#_all()\n",
    "    qc.draw('mpl')\n",
    "    backend = Aer.get_backend('qasm_simulator')\n",
    "    job = execute(qc, backend, shots = 10)\n",
    "    plot_histogram(job.result().get_counts())\n",
    "    print(job.result().get_counts())"
   ]
  },
  {
   "cell_type": "code",
   "execution_count": 73,
   "metadata": {},
   "outputs": [],
   "source": [
    "def validationNumbers(number_1,number_2):\n",
    "    if (isinstance(number_1, int)) and (isinstance(number_2, int)) and (number_1 is not None) and (number_2 is not None) and (number_1>0) and (number_2>0):\n",
    "        return True    \n",
    "    else:\n",
    "        return False\n",
    "        \n",
    "def validationLog(number_1,number_2):\n",
    "    backend = Aer.get_backend('qasm_simulator')\n",
    "    backend_qubits = backend.configuration().n_qubits\n",
    "    logNum_1 = math.ceil(math.log(number_1,2))\n",
    "    logNum_2 = math.ceil(math.log(number_2,2))\n",
    "    \n",
    "    if (logNum_1 + logNum_2) <= (backend_qubits/2):\n",
    "        return True\n",
    "    else:\n",
    "        return False\n",
    "        \n",
    "def multiplier(number_1, number_2):\n",
    "    if validationNumbers(number_1,number_2):\n",
    "        if validationLog(number_1,number_2):\n",
    "            multiplierQuantumCiruit(number_1,number_2)\n",
    "        else:\n",
    "            logging.error(\"limitations of simulation log_2(number_1) + log_2(number_2) should be less than N° of qubits from backend 'qasm_simulator'(30 qubits) \")\n",
    "    else:\n",
    "        logging.error(\"please insert integers greater than 0 and not null values\")\n",
    "\n"
   ]
  },
  {
   "cell_type": "code",
   "execution_count": 76,
   "metadata": {
    "scrolled": true
   },
   "outputs": [
    {
     "name": "stdout",
     "output_type": "stream",
     "text": [
      "Entró a multiplierQuantumCiruit\n",
      "3\n",
      "3\n",
      "6\n",
      "{'101010': 10}\n"
     ]
    }
   ],
   "source": [
    "multiplier(6,6)"
   ]
  },
  {
   "cell_type": "code",
   "execution_count": null,
   "metadata": {},
   "outputs": [],
   "source": []
  }
 ],
 "metadata": {
  "kernelspec": {
   "display_name": "Python 3",
   "language": "python",
   "name": "python3"
  },
  "language_info": {
   "codemirror_mode": {
    "name": "ipython",
    "version": 3
   },
   "file_extension": ".py",
   "mimetype": "text/x-python",
   "name": "python",
   "nbconvert_exporter": "python",
   "pygments_lexer": "ipython3",
   "version": "3.8.5"
  }
 },
 "nbformat": 4,
 "nbformat_minor": 4
}
