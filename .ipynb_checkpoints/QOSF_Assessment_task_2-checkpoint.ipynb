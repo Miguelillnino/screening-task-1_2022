{
 "cells": [
  {
   "cell_type": "code",
   "execution_count": null,
   "metadata": {},
   "outputs": [],
   "source": [
    "#Notebook written by Miguel de Jesús Martínez Felipe\n",
    "#For Quantum Computing Mentorship Program (QOSF)\n",
    "#Assessment task 2\n",
    "\n",
    "from qiskit import *\n",
    "from qiskit.visualization import plot_histogramtogram plot_bloch_multivector\n",
    "from numpy import pi\n",
    "\n",
    "#from qiskit.circuit.library import QFT"
   ]
  }
 ],
 "metadata": {
  "kernelspec": {
   "display_name": "Python 3",
   "language": "python",
   "name": "python3"
  },
  "language_info": {
   "codemirror_mode": {
    "name": "ipython",
    "version": 3
   },
   "file_extension": ".py",
   "mimetype": "text/x-python",
   "name": "python",
   "nbconvert_exporter": "python",
   "pygments_lexer": "ipython3",
   "version": "3.8.5"
  }
 },
 "nbformat": 4,
 "nbformat_minor": 4
}
