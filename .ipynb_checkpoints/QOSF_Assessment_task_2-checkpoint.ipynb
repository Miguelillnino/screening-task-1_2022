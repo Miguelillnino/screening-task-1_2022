{
 "cells": [
  {
   "cell_type": "code",
   "execution_count": 3,
   "metadata": {},
   "outputs": [],
   "source": [
    "#Notebook written by Miguel de Jesús Martínez Felipe\n",
    "#For Quantum Computing Mentorship Program (QOSF)\n",
    "#Assessment task 2\n",
    "\n",
    "from qiskit import *\n",
    "from qiskit.visualization import plot_histogram, plot_bloch_multivector\n",
    "from numpy import pi\n",
    "\n",
    "#from qiskit.circuit.library import QFT"
   ]
  },
  {
   "cell_type": "code",
   "execution_count": 5,
   "metadata": {},
   "outputs": [
    {
     "data": {
      "image/png": "[encoded data removed]",
      "text/plain": [
       "<Figure size 146.797x385.28 with 1 Axes>"
      ]
     },
     "execution_count": 5,
     "metadata": {},
     "output_type": "execute_result"
    }
   ],
   "source": [
    "qc = QuantumCircuit(6)\n",
    "qc.x(0)\n",
    "qc.x(2)\n",
    "qc.draw('mpl')\n"
   ]
  },
  {
   "cell_type": "code",
   "execution_count": null,
   "metadata": {},
   "outputs": [],
   "source": [
    "def add_qubit(qc, q, sign = 1):\n",
    "    if q > 3:\n",
    "        sign = -sign\n",
    "        \n",
    "    for indx, qb in enumerate(range(8,12)):\n",
    "        qc.cp(sign * pi / (2**(3 - indx)), q, qb)\n",
    "\n",
    "def rotationsFourier(qc, sign = 1):\n",
    "    qc.append(QFT(4), range(8,12))\n",
    "    qPrima = 0\n",
    "#   firstPart y secondPart, number of rotations\n",
    "    firstPart = 5\n",
    "    secondPart = 1\n",
    "    for q in range(0,8):\n",
    "        if q > 3:\n",
    "            secondPart = secondPart -2\n",
    "            qPrima = q + secondPart\n",
    "        else:\n",
    "            firstPart = firstPart - 2\n",
    "            qPrima = q + firstPart\n",
    "#         print(q)\n",
    "        for index in range(0,2**qPrima):\n",
    "            add_qubit(qc, q, sign)\n",
    "            qc.barrier()\n",
    "   \n",
    "    qc.append(QFT(4,inverse=True), range(8,12)) #invQFT(4)\n"
   ]
  }
 ],
 "metadata": {
  "kernelspec": {
   "display_name": "Python 3",
   "language": "python",
   "name": "python3"
  },
  "language_info": {
   "codemirror_mode": {
    "name": "ipython",
    "version": 3
   },
   "file_extension": ".py",
   "mimetype": "text/x-python",
   "name": "python",
   "nbconvert_exporter": "python",
   "pygments_lexer": "ipython3",
   "version": "3.8.5"
  }
 },
 "nbformat": 4,
 "nbformat_minor": 4
}
