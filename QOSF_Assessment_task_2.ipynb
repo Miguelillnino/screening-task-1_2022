{
 "cells": [
  {
   "cell_type": "code",
   "execution_count": 48,
   "metadata": {},
   "outputs": [],
   "source": [
    "#Notebook written by Miguel de Jesús Martínez Felipe\n",
    "#For Quantum Computing Mentorship Program (QOSF)\n",
    "#Assessment task 2\n",
    "\n",
    "import logging\n",
    "import math\n",
    "from qiskit import *\n",
    "from qiskit.visualization import plot_histogram, plot_bloch_multivector\n",
    "from numpy import pi\n",
    "\n",
    "#from qiskit.circuit.library import QFT"
   ]
  },
  {
   "cell_type": "markdown",
   "metadata": {},
   "source": [
    "# Quantum Fourier Transform"
   ]
  },
  {
   "cell_type": "code",
   "execution_count": 13,
   "metadata": {},
   "outputs": [],
   "source": [
    "def qft_rotations(circuit, n):\n",
    "    \"\"\"Performs qft on the first n qubits in circuit (without swaps)\"\"\"\n",
    "    if n == 0:\n",
    "        return circuit\n",
    "    n -= 1\n",
    "    circuit.h(n)\n",
    "    circuit.barrier()\n",
    "    for qubit in range(n):\n",
    "        circuit.cp(pi/2**(n-qubit), qubit, n)\n",
    "    qft_rotations(circuit, n)\n",
    "\n",
    "def swap_registers(circuit, n):\n",
    "    for qubit in range(n//2):\n",
    "        circuit.swap(qubit, n-qubit-1)\n",
    "    return circuit\n",
    "\n",
    "def qft(circuit, n):\n",
    "    \"\"\"QFT on the first n qubits in circuit\"\"\"\n",
    "    qft_rotations(circuit, n)\n",
    "    swap_registers(circuit, n)\n",
    "    return circuit.decompose()\n",
    "\n",
    "def qft_inser(circuit,n):\n",
    "    lenghtCircuit = len(circuit.qubits)\n",
    "    qft_circ = qft(QuantumCircuit(n,name='QFT'), n)\n",
    "    qc.append(qft_circ, qc.qubits[lenghtCircuit-n:lenghtCircuit])\n",
    "    return circuit.decompose()\n",
    "\n",
    "def inverse_qft(circuit, n):\n",
    "    lenghtCircuit = len(circuit.qubits)\n",
    "    \"\"\"Does the inverse QFT on the first n qubits in circuit\"\"\"\n",
    "    qft_circ = qft(QuantumCircuit(n,name='inv_QFT'), n)\n",
    "    invqft_circ = qft_circ.inverse()\n",
    "    circuit.append(invqft_circ, circuit.qubits[lenghtCircuit-n:lenghtCircuit])\n",
    "    return circuit.decompose()"
   ]
  },
  {
   "cell_type": "markdown",
   "metadata": {},
   "source": [
    "# Draper Adder"
   ]
  },
  {
   "cell_type": "code",
   "execution_count": 70,
   "metadata": {},
   "outputs": [],
   "source": [
    "def add_qubit(qc, q):\n",
    "    for indx, qb in enumerate(range(4,10)):\n",
    "        qc.cp(pi / (2**(5 - indx)), q, qb) # Aqui se varía el número elevado dependiendo el resultado\n",
    "    return qc\n",
    "\n",
    "def rotationsFourier(qc):\n",
    "    for q in range(0,4):\n",
    "        lol = 2**q\n",
    "        for index in range(0,lol):\n",
    "            b_rotations = add_qubit(QuantumCircuit(10,name='B'), q)\n",
    "            qc.append(b_rotations, qc.qubits[0:10])\n",
    "#             add_qubit(qc, q)\n",
    "            qc.barrier()\n",
    "        \n",
    "# qc.append(QFT(4,inverse=True), range(8,12)) #invQFT(4)\n",
    "\n"
   ]
  },
  {
   "cell_type": "code",
   "execution_count": 51,
   "metadata": {},
   "outputs": [
    {
     "ename": "IndentationError",
     "evalue": "expected an indented block (<ipython-input-51-881a8654a25b>, line 12)",
     "output_type": "error",
     "traceback": [
      "\u001b[0;36m  File \u001b[0;32m\"<ipython-input-51-881a8654a25b>\"\u001b[0;36m, line \u001b[0;32m12\u001b[0m\n\u001b[0;31m    for multiply in range(0,3):\u001b[0m\n\u001b[0m    ^\u001b[0m\n\u001b[0;31mIndentationError\u001b[0m\u001b[0;31m:\u001b[0m expected an indented block\n"
     ]
    }
   ],
   "source": [
    "\n",
    "size_QFT = 6\n",
    "qc = QuantumCircuit(10,6)\n",
    "qc.x(0)\n",
    "qc.x(2)\n",
    "qc.x(3)\n",
    "\n",
    "qft_inser(qc,size_QFT)\n",
    "\n",
    "for indx, qb in enumerate(range(4,10)):\n",
    "for multiply in range(0,3):\n",
    "    rotationsFourier(qc)\n",
    "\n",
    "inverse_qft(qc,size_QFT)\n",
    "\n",
    "# qc.measure_all()\n",
    "# qc.measure(range(10,16),range(0,6))#_all()\n",
    "qc.measure(range(4,10),range(0,6))#_all()\n",
    "qc.draw('mpl')\n"
   ]
  },
  {
   "cell_type": "code",
   "execution_count": 58,
   "metadata": {},
   "outputs": [],
   "source": [
    "def multiplierQuantumCiruit():\n",
    "    print('Entró a multiplierQuantumCiruit')\n"
   ]
  },
  {
   "cell_type": "code",
   "execution_count": 72,
   "metadata": {},
   "outputs": [
    {
     "data": {
      "image/png": "[encoded data removed]",
      "text/plain": [
       "<Figure size 504x360 with 1 Axes>"
      ]
     },
     "execution_count": 72,
     "metadata": {},
     "output_type": "execute_result"
    }
   ],
   "source": [
    "backend = Aer.get_backend('qasm_simulator')\n",
    "job = execute(qc, backend, shots = 5)\n",
    "plot_histogram(job.result().get_counts())\n"
   ]
  },
  {
   "cell_type": "code",
   "execution_count": 66,
   "metadata": {},
   "outputs": [
    {
     "name": "stderr",
     "output_type": "stream",
     "text": [
      "ERROR:root:limitations of simulation log_2(number_1) + log_2(number_2) should be less than N° of qubits from backend 'qasm_simulator'(30 qubits) \n"
     ]
    }
   ],
   "source": [
    "def validationNumbers(number_1,number_2):\n",
    "    if (isinstance(number_1, int)) and (isinstance(number_2, int)) and (number_1 is not None) and (number_2 is not None) and (number_1>0) and (number_2>0):\n",
    "        return True    \n",
    "    else:\n",
    "        return False\n",
    "        \n",
    "def validationLog(number_1,number_2):\n",
    "    backend = Aer.get_backend('qasm_simulator')\n",
    "    backend_qubits = backend.configuration().n_qubits\n",
    "    logNum_1 = math.ceil(math.log(number_1,2))\n",
    "    logNum_2 = math.ceil(math.log(number_2,2))\n",
    "    \n",
    "    if (logNum_1 + logNum_2) <= (backend_qubits/2):\n",
    "        return True\n",
    "    else:\n",
    "        return False\n",
    "        \n",
    "def multiplier(number_1, number_2):\n",
    "    if validationNumbers(number_1,number_2):\n",
    "        if validationLog(number_1,number_2):\n",
    "            multiplierQuantumCiruit()\n",
    "        else:\n",
    "            logging.error(\"limitations of simulation log_2(number_1) + log_2(number_2) should be less than N° of qubits from backend 'qasm_simulator'(30 qubits) \")\n",
    "    else:\n",
    "        logging.error(\"please insert integers greater than 0 and not null values\")\n",
    "\n",
    "multiplier(16384,3)\n",
    "\n"
   ]
  },
  {
   "cell_type": "code",
   "execution_count": null,
   "metadata": {},
   "outputs": [],
   "source": []
  }
 ],
 "metadata": {
  "kernelspec": {
   "display_name": "Python 3",
   "language": "python",
   "name": "python3"
  },
  "language_info": {
   "codemirror_mode": {
    "name": "ipython",
    "version": 3
   },
   "file_extension": ".py",
   "mimetype": "text/x-python",
   "name": "python",
   "nbconvert_exporter": "python",
   "pygments_lexer": "ipython3",
   "version": "3.8.5"
  }
 },
 "nbformat": 4,
 "nbformat_minor": 4
}
